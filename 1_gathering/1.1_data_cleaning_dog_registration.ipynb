{
 "cells": [
  {
   "cell_type": "code",
   "execution_count": 1,
   "id": "a3347ead-b8ea-4926-b40d-2fc1589fccb4",
   "metadata": {},
   "outputs": [],
   "source": [
    "import json\n",
    "from time import sleep\n",
    "import re\n",
    "import requests\n",
    "from bs4 import BeautifulSoup\n",
    "import matplotlib.pyplot as plt\n",
    "import numpy as np\n",
    "import pandas as pd\n",
    "import seaborn as sns"
   ]
  },
  {
   "cell_type": "code",
   "execution_count": 2,
   "id": "8b8d3528-1516-4833-994f-a6d16b7ee967",
   "metadata": {},
   "outputs": [],
   "source": [
    "df=pd.read_csv('NYC_Dog_Licensing_Dataset.csv')"
   ]
  },
  {
   "cell_type": "code",
   "execution_count": 3,
   "id": "527753bb-d92d-464b-be2f-e5754485f2ab",
   "metadata": {},
   "outputs": [],
   "source": [
    "cols=df.columns"
   ]
  },
  {
   "cell_type": "code",
   "execution_count": 4,
   "id": "c9b4af66-996a-4041-8310-13c4472cf237",
   "metadata": {},
   "outputs": [
    {
     "data": {
      "text/plain": [
       "Index(['AnimalName', 'AnimalGender', 'AnimalBirthYear', 'BreedName', 'ZipCode',\n",
       "       'LicenseIssuedDate', 'LicenseExpiredDate', 'Extract Year'],\n",
       "      dtype='object')"
      ]
     },
     "execution_count": 4,
     "metadata": {},
     "output_type": "execute_result"
    }
   ],
   "source": [
    "cols"
   ]
  },
  {
   "cell_type": "code",
   "execution_count": 5,
   "id": "ef4b6060-c0bf-4c8c-b5c0-cff1f7283517",
   "metadata": {},
   "outputs": [],
   "source": [
    "df_drop=df[['AnimalName', 'AnimalGender', 'AnimalBirthYear', ]]"
   ]
  },
  {
   "cell_type": "code",
   "execution_count": 4,
   "id": "609c62cd-b41a-47c6-924b-922df4ab4897",
   "metadata": {},
   "outputs": [],
   "source": [
    "df['BreedName'] = df['BreedName'].str.lower()"
   ]
  },
  {
   "cell_type": "code",
   "execution_count": 7,
   "id": "7f7244d2-c424-4c72-ae5e-5b949c169456",
   "metadata": {},
   "outputs": [],
   "source": [
    "df_drop=df.drop_duplicates(subset=['AnimalName', 'AnimalGender', 'AnimalBirthYear', 'BreedName'],keep='last', inplace=False, ignore_index=False)"
   ]
  },
  {
   "cell_type": "code",
   "execution_count": 35,
   "id": "bdf28ab9-3099-465b-aa1d-07efbcbd0e7c",
   "metadata": {},
   "outputs": [],
   "source": [
    "# df['dup']=df_drop['dup']"
   ]
  },
  {
   "cell_type": "code",
   "execution_count": 55,
   "id": "2d0ba92e-9fc5-4ec8-b16c-2be673b69685",
   "metadata": {},
   "outputs": [],
   "source": [
    "# df_index=df.set_index('dup')"
   ]
  },
  {
   "cell_type": "code",
   "execution_count": 45,
   "id": "727dfc7a-4376-42bf-af99-ecce789d9536",
   "metadata": {
    "scrolled": true,
    "tags": []
   },
   "outputs": [],
   "source": [
    "df_clean=df.loc[(df.dup==0)].any(axis=1)"
   ]
  },
  {
   "cell_type": "code",
   "execution_count": 8,
   "id": "56ed06a6-6f30-4238-a43c-4c41cd92214a",
   "metadata": {},
   "outputs": [
    {
     "data": {
      "text/plain": [
       "(213083, 8)"
      ]
     },
     "execution_count": 8,
     "metadata": {},
     "output_type": "execute_result"
    }
   ],
   "source": [
    "df_drop.shape"
   ]
  },
  {
   "cell_type": "code",
   "execution_count": 9,
   "id": "764829f9-3ed8-4dde-943c-47bbddd30ef6",
   "metadata": {},
   "outputs": [],
   "source": [
    "df_drop.to_csv('no_dup_dog.csv')"
   ]
  },
  {
   "cell_type": "code",
   "execution_count": null,
   "id": "a2145c58-8f8b-481e-b674-7b99fdc7d474",
   "metadata": {},
   "outputs": [],
   "source": []
  }
 ],
 "metadata": {
  "kernelspec": {
   "display_name": "Python 3 (ipykernel)",
   "language": "python",
   "name": "python3"
  },
  "language_info": {
   "codemirror_mode": {
    "name": "ipython",
    "version": 3
   },
   "file_extension": ".py",
   "mimetype": "text/x-python",
   "name": "python",
   "nbconvert_exporter": "python",
   "pygments_lexer": "ipython3",
   "version": "3.10.6"
  }
 },
 "nbformat": 4,
 "nbformat_minor": 5
}
