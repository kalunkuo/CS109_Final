{
 "cells": [
  {
   "cell_type": "code",
   "execution_count": 1,
   "id": "3602f01a-9526-4e6d-9041-e7fc9defdd36",
   "metadata": {},
   "outputs": [],
   "source": [
    "import json\n",
    "from time import sleep\n",
    "import re\n",
    "import requests\n",
    "from bs4 import BeautifulSoup\n",
    "import matplotlib.pyplot as plt\n",
    "import numpy as np\n",
    "import pandas as pd\n",
    "import seaborn as sns"
   ]
  },
  {
   "cell_type": "code",
   "execution_count": 2,
   "id": "c987ec38-201d-47ed-95d5-6fbf641142ee",
   "metadata": {},
   "outputs": [],
   "source": [
    "\n",
    "df=pd.read_csv('all_breeds_df.csv')"
   ]
  },
  {
   "cell_type": "code",
   "execution_count": 3,
   "id": "04d30687-6836-4a3c-9b7a-f430355175e5",
   "metadata": {},
   "outputs": [],
   "source": [
    "# df=pd.read_csv('info.csv')"
   ]
  },
  {
   "cell_type": "code",
   "execution_count": 4,
   "id": "ba7f7207-b44a-4e78-9379-61dbda848b99",
   "metadata": {},
   "outputs": [
    {
     "data": {
      "text/plain": [
       "(1521, 3)"
      ]
     },
     "execution_count": 4,
     "metadata": {},
     "output_type": "execute_result"
    }
   ],
   "source": [
    "df.shape"
   ]
  },
  {
   "cell_type": "code",
   "execution_count": 5,
   "id": "c91512b9-0b9d-414a-9844-2a50e1165067",
   "metadata": {},
   "outputs": [],
   "source": [
    "df=df['0']"
   ]
  },
  {
   "cell_type": "code",
   "execution_count": 6,
   "id": "10e55527-f506-4f5d-823c-7abaf3d453f9",
   "metadata": {},
   "outputs": [],
   "source": [
    "df = pd.DataFrame(df)"
   ]
  },
  {
   "cell_type": "code",
   "execution_count": 7,
   "id": "9d8ee66b-d315-4cf0-bbe9-42c0c5e5948b",
   "metadata": {},
   "outputs": [],
   "source": [
    "# df"
   ]
  },
  {
   "cell_type": "code",
   "execution_count": 8,
   "id": "4daec4f8-3d3f-4988-ba38-651a616446b3",
   "metadata": {},
   "outputs": [],
   "source": [
    "base_url = 'https://dogtime.com/dog-breeds/'\n",
    "# 'https://www.trainpetdog.com/breed/'"
   ]
  },
  {
   "cell_type": "code",
   "execution_count": 9,
   "id": "2600acb2-aad4-4a41-8003-47c02aa22a94",
   "metadata": {},
   "outputs": [],
   "source": [
    "# to avoid fetching data from mainpage\n",
    "main_page_indication = 'error404'\n",
    "# 'g7jemq9iklwh922nyfyliy37vq4gxo'"
   ]
  },
  {
   "cell_type": "code",
   "execution_count": 10,
   "id": "44d86f08-9a51-466b-8c68-9c000257f689",
   "metadata": {},
   "outputs": [],
   "source": [
    "mainurl = 'https://dogtime.com/dog-breeds/profiles'\n",
    "page=BeautifulSoup(requests.get(mainurl, 'html.parser').content)\n"
   ]
  },
  {
   "cell_type": "markdown",
   "id": "69efdb55-258f-4a58-a00d-768afc5deae6",
   "metadata": {},
   "source": [
    "### it took several hours to run the scraping cell"
   ]
  },
  {
   "cell_type": "code",
   "execution_count": 11,
   "id": "9b65b6ef-353d-4cd9-b38f-c65c16ef7332",
   "metadata": {},
   "outputs": [
    {
     "ename": "KeyboardInterrupt",
     "evalue": "",
     "output_type": "error",
     "traceback": [
      "\u001b[0;31m---------------------------------------------------------------------------\u001b[0m",
      "\u001b[0;31mKeyboardInterrupt\u001b[0m                         Traceback (most recent call last)",
      "Input \u001b[0;32mIn [11]\u001b[0m, in \u001b[0;36m<cell line: 6>\u001b[0;34m()\u001b[0m\n\u001b[1;32m      5\u001b[0m \u001b[38;5;66;03m# fail_list=[]\u001b[39;00m\n\u001b[1;32m      6\u001b[0m \u001b[38;5;28;01mfor\u001b[39;00m i \u001b[38;5;129;01min\u001b[39;00m \u001b[38;5;28mrange\u001b[39m(\u001b[38;5;28mlen\u001b[39m(info)):\n\u001b[0;32m----> 7\u001b[0m     \u001b[43msleep\u001b[49m\u001b[43m(\u001b[49m\u001b[38;5;241;43m2\u001b[39;49m\u001b[43m)\u001b[49m\n\u001b[1;32m      8\u001b[0m     \u001b[38;5;28mdict\u001b[39m\u001b[38;5;241m=\u001b[39m{}\n\u001b[1;32m      9\u001b[0m     \u001b[38;5;66;03m# information = info[i].text.strip().lower()\u001b[39;00m\n\u001b[1;32m     10\u001b[0m     \u001b[38;5;66;03m# dict['name'] = information[information.index('\">')+2:information.index('</a>')]\u001b[39;00m\n",
      "\u001b[0;31mKeyboardInterrupt\u001b[0m: "
     ]
    }
   ],
   "source": [
    "# this is working\n",
    "info=page.select('.list-item-title')\n",
    "# info[1]\n",
    "dict_list=[]\n",
    "# fail_list=[]\n",
    "for i in range(len(info)):\n",
    "    sleep(2)\n",
    "    dict={}\n",
    "    # information = info[i].text.strip().lower()\n",
    "    # dict['name'] = information[information.index('\">')+2:information.index('</a>')]\n",
    "    dict['breed']=info[i].text.strip().lower()    \n",
    "    url=info[i].get('href')\n",
    "    dict['url'] = url\n",
    "    single_page=BeautifulSoup(requests.get(url, 'html.parser').content)\n",
    "    information = single_page.select('.vital-stat-box')\n",
    "    height_info=information[1].text\n",
    "    weight_info=information[2].text\n",
    "    longiv_info=information[3].text\n",
    "    dict['height'] = [int(s) for s in height_info.split() if s.isdigit()]\n",
    "    dict['weight'] = [int(s) for s in weight_info.split() if s.isdigit()]\n",
    "    dict['longivity'] = [int(s) for s in longiv_info.split() if s.isdigit()]\n",
    "    \n",
    "    dict_list.append(dict)"
   ]
  },
  {
   "cell_type": "code",
   "execution_count": 12,
   "id": "09b72b41-05ca-4c67-b8a2-c0f5e5f21791",
   "metadata": {},
   "outputs": [],
   "source": [
    "# fail_list\n",
    "# https://dogtime.com/dog-breeds/alaskan-husky-shepherd\n",
    "df_info_breed=pd.DataFrame(dict_list)\n",
    "# df_info_breed.to_csv('dog_breed_in.csv')"
   ]
  },
  {
   "cell_type": "code",
   "execution_count": 13,
   "id": "83bb1200-e21c-44ad-b7f8-cb23466e689f",
   "metadata": {},
   "outputs": [
    {
     "data": {
      "text/html": [
       "<div>\n",
       "<style scoped>\n",
       "    .dataframe tbody tr th:only-of-type {\n",
       "        vertical-align: middle;\n",
       "    }\n",
       "\n",
       "    .dataframe tbody tr th {\n",
       "        vertical-align: top;\n",
       "    }\n",
       "\n",
       "    .dataframe thead th {\n",
       "        text-align: right;\n",
       "    }\n",
       "</style>\n",
       "<table border=\"1\" class=\"dataframe\">\n",
       "  <thead>\n",
       "    <tr style=\"text-align: right;\">\n",
       "      <th></th>\n",
       "      <th>breed</th>\n",
       "      <th>url</th>\n",
       "      <th>height</th>\n",
       "      <th>weight</th>\n",
       "      <th>longivity</th>\n",
       "    </tr>\n",
       "  </thead>\n",
       "  <tbody>\n",
       "    <tr>\n",
       "      <th>count</th>\n",
       "      <td>1</td>\n",
       "      <td>1</td>\n",
       "      <td>1</td>\n",
       "      <td>1</td>\n",
       "      <td>1</td>\n",
       "    </tr>\n",
       "    <tr>\n",
       "      <th>unique</th>\n",
       "      <td>1</td>\n",
       "      <td>1</td>\n",
       "      <td>1</td>\n",
       "      <td>1</td>\n",
       "      <td>1</td>\n",
       "    </tr>\n",
       "    <tr>\n",
       "      <th>top</th>\n",
       "      <td>afador</td>\n",
       "      <td>https://dogtime.com/dog-breeds/afador</td>\n",
       "      <td>[29]</td>\n",
       "      <td>[75]</td>\n",
       "      <td>[12]</td>\n",
       "    </tr>\n",
       "    <tr>\n",
       "      <th>freq</th>\n",
       "      <td>1</td>\n",
       "      <td>1</td>\n",
       "      <td>1</td>\n",
       "      <td>1</td>\n",
       "      <td>1</td>\n",
       "    </tr>\n",
       "  </tbody>\n",
       "</table>\n",
       "</div>"
      ],
      "text/plain": [
       "         breed                                    url height weight longivity\n",
       "count        1                                      1      1      1         1\n",
       "unique       1                                      1      1      1         1\n",
       "top     afador  https://dogtime.com/dog-breeds/afador   [29]   [75]      [12]\n",
       "freq         1                                      1      1      1         1"
      ]
     },
     "execution_count": 13,
     "metadata": {},
     "output_type": "execute_result"
    }
   ],
   "source": [
    "df_info_breed.describe()"
   ]
  },
  {
   "cell_type": "code",
   "execution_count": 14,
   "id": "44ad35cd-7b80-4a5a-9423-7b7872ed29fb",
   "metadata": {
    "scrolled": true,
    "tags": []
   },
   "outputs": [],
   "source": [
    "df_breed_url = pd.DataFrame(dict_list)\n",
    "# df_breed_url[['breed','url','height','weight','longivity']]\n",
    "# df_breed_url.to_csv('dog_info_breed.csv')\n"
   ]
  },
  {
   "cell_type": "markdown",
   "id": "3a236ed1-4744-4c13-8ef2-f8a4864f799e",
   "metadata": {
    "jp-MarkdownHeadingCollapsed": true,
    "tags": []
   },
   "source": [
    "## the other scraping methos, We use the first one"
   ]
  },
  {
   "cell_type": "code",
   "execution_count": 29,
   "id": "a316ff85-a836-48e1-af2b-a5758812ff67",
   "metadata": {},
   "outputs": [],
   "source": [
    "# def get_url(name):\n",
    "#     return base_url+name+'/'"
   ]
  },
  {
   "cell_type": "code",
   "execution_count": 33,
   "id": "12572142-dfdf-4059-84de-bdd90c56a07f",
   "metadata": {},
   "outputs": [],
   "source": [
    "# df_breed_url.head()"
   ]
  },
  {
   "cell_type": "code",
   "execution_count": 31,
   "id": "d8b067da-1a53-4d36-9786-2fd20adafe46",
   "metadata": {},
   "outputs": [],
   "source": [
    "# def get_page(url):\n",
    "#     sleep(2)\n",
    "#     return BeautifulSoup(requests.get(url, 'html.parser').content)"
   ]
  },
  {
   "cell_type": "code",
   "execution_count": 21,
   "id": "ec86ecf9-f591-4bd5-855b-e47d39129af1",
   "metadata": {},
   "outputs": [],
   "source": [
    "# def get_info(name):\n",
    "#     url = get_url(name)\n",
    "#     dog_dict={}\n",
    "#     dog_dict['breed']=name\n",
    "#     page=get_page(url)\n",
    "#     if main_page_indication in page:\n",
    "#         return dog_dict\n",
    "#     else:\n",
    "#         info = page.select('.ActivityLevel p')\n",
    "#         for i in range(1,len(info)):\n",
    "#             item = info[i-1].text\n",
    "#             next_item = info[i].text\n",
    "#             if 'Height' in item:\n",
    "#                 if 'inches' in item:\n",
    "#                     try:\n",
    "#                         item=item.replace('-',' ')\n",
    "#                     except:\n",
    "#                         item = item\n",
    "#                     if 'Female' in item:\n",
    "#                         male = item[:item.index('Female')]\n",
    "#                         female = item[item.index('Female'):]\n",
    "#                         dog_dict['male_h'] = [int(s) for s in male.split() if s.isdigit()]\n",
    "#                         dog_dict['female_h'] = [int(s) for s in female.split() if s.isdigit()]\n",
    "#                     else:\n",
    "#                         dog_dict['male_h'] = [int(s) for s in item.split() if s.isdigit()]\n",
    "#                         dog_dict['female_h'] = [int(s) for s in item.split() if s.isdigit()]\n",
    "#                 else:\n",
    "#                     try:\n",
    "#                         next_item=next_item.replace('-',' ')\n",
    "#                     except:\n",
    "#                         next_item = next_item\n",
    "#                     if 'Female' in next_item:\n",
    "#                         male = next_item[:next_item.index('Female')]\n",
    "#                         female = next_item[next_item.index('Female'):]\n",
    "#                         dog_dict['male_h'] = [int(s) for s in male.split() if s.isdigit()]\n",
    "#                         dog_dict['female_h'] = [int(s) for s in female.split() if s.isdigit()]\n",
    "#                     else:\n",
    "#                         dog_dict['male_h'] = [int(s) for s in next_item.split() if s.isdigit()]\n",
    "#                         dog_dict['female_h'] = [int(s) for s in next_item.split() if s.isdigit()]\n",
    "#             if 'Weight' in item:\n",
    "#                 if 'pounds' in item:\n",
    "#                     try:\n",
    "#                         item=item.replace('-',' ')\n",
    "#                     except:\n",
    "#                         item = item\n",
    "#                     if 'Female' in item:\n",
    "#                         male = item[:item.index('Female')]\n",
    "#                         female = item[item.index('Female'):]\n",
    "#                         dog_dict['male_w'] = [int(s) for s in male.split() if s.isdigit()]\n",
    "#                         dog_dict['female_w'] = [int(s) for s in female.split() if s.isdigit()]\n",
    "#                     else:\n",
    "#                         dog_dict['male_w'] = [int(s) for s in item.split() if s.isdigit()]\n",
    "#                         dog_dict['female_w'] = [int(s) for s in item.split() if s.isdigit()]\n",
    "#                 else:\n",
    "#                     try:\n",
    "#                         next_item=next_item.replace('-',' ')\n",
    "#                     except:\n",
    "#                         next_item = next_item\n",
    "#                     if 'Female' in next_item:\n",
    "#                         male = next_item[:next_item.index('Female')]\n",
    "#                         female = next_item[next_item.index('Female'):]\n",
    "#                         dog_dict['male_w'] = [int(s) for s in male.split() if s.isdigit()]\n",
    "#                         dog_dict['female_w'] = [int(s) for s in female.split() if s.isdigit()]\n",
    "#                     else:\n",
    "#                         dog_dict['male_w'] = [int(s) for s in next_item.split() if s.isdigit()]\n",
    "#                         dog_dict['female_w'] = [int(s) for s in next_item.split() if s.isdigit()]\n",
    "#             if 'homes with kids?' in item:\n",
    "#                 dog_dict['w_kid'] = next_item\n",
    "#             if 'Better suited to an indoor or outdoor lifestyle?' in item:\n",
    "#                 dog_dict['in_out_door'] = next_item\n",
    "#         return dog_dict"
   ]
  },
  {
   "cell_type": "code",
   "execution_count": 22,
   "id": "9d5c31be-ce5b-4835-9a2d-b6ac3b87ab68",
   "metadata": {},
   "outputs": [],
   "source": [
    "# def get_info2(name):\n",
    "#     url = get_url(name)\n",
    "#     dog_dict={}\n",
    "#     dog_dict['breed']=name\n",
    "#     page=get_page(url)\n",
    "#     if main_page_indication in page:\n",
    "#         return dog_dict\n",
    "#     else:\n",
    "#         try:\n",
    "#             info = page.select('.vital-stat-box')\n",
    "#             height_info=info[1].text\n",
    "#             weight_info=info[2].text\n",
    "#             longiv_info=info[3].text\n",
    "#             dog_dict['height'] = [int(s) for s in height_info.split() if s.isdigit()]\n",
    "#             dog_dict['weight'] = [int(s) for s in weight_info.split() if s.isdigit()]\n",
    "#             dog_dict['longivity'] = [int(s) for s in longiv_info.split() if s.isdigit()]\n",
    "#             return dog_dict\n",
    "#         except:\n",
    "#             return dog_dict\n"
   ]
  },
  {
   "cell_type": "code",
   "execution_count": 32,
   "id": "52f790e8-ba91-45c3-9725-bdc167df0853",
   "metadata": {},
   "outputs": [],
   "source": [
    "# info_list=[]\n",
    "# for i in range(4):\n",
    "#     info_list.append(get_info2(df['0'][i]))"
   ]
  },
  {
   "cell_type": "code",
   "execution_count": null,
   "id": "5971bdce-90c9-4076-b06c-b00dad01da2b",
   "metadata": {},
   "outputs": [],
   "source": [
    "# df['0'][1]\n",
    "# len(df)"
   ]
  },
  {
   "cell_type": "code",
   "execution_count": null,
   "id": "c603c190-0756-4e4a-936f-efa97fcf7dd0",
   "metadata": {},
   "outputs": [],
   "source": [
    "# info_df=pd.DataFrame(info_list)"
   ]
  },
  {
   "cell_type": "code",
   "execution_count": null,
   "id": "40573e77-d960-418c-8270-2594969906d1",
   "metadata": {},
   "outputs": [],
   "source": [
    "# info_df=pd.DataFrame(info_list)"
   ]
  },
  {
   "cell_type": "code",
   "execution_count": null,
   "id": "a7d049f4-d3fd-43c2-bccd-9a2037de0655",
   "metadata": {},
   "outputs": [],
   "source": [
    "# info_df['na']=info_df['male_h'].isna()"
   ]
  },
  {
   "cell_type": "code",
   "execution_count": null,
   "id": "c53d0a93-4684-4a9d-9fbe-a007f255c00d",
   "metadata": {},
   "outputs": [],
   "source": [
    "# info_df['na'].describe()"
   ]
  },
  {
   "cell_type": "code",
   "execution_count": null,
   "id": "6c64effe-3c8c-47fd-b796-bbfa2a2c6461",
   "metadata": {},
   "outputs": [],
   "source": [
    "# info_df.to_csv('info.csv')"
   ]
  },
  {
   "cell_type": "code",
   "execution_count": 27,
   "id": "c05b6b31-1817-4a4c-8ac5-c882b8e84ce8",
   "metadata": {},
   "outputs": [],
   "source": [
    "# def get_url2(name):\n",
    "#     return base_url+name+'/'"
   ]
  },
  {
   "cell_type": "code",
   "execution_count": 28,
   "id": "08a47740-3293-4b53-a55a-21297d1def21",
   "metadata": {},
   "outputs": [],
   "source": [
    "# def get_info2(name):\n",
    "#     url = get_url(name)\n",
    "#     dog_dict={}\n",
    "#     dog_dict['breed']=name\n",
    "#     page=get_page(url)\n",
    "#     if main_page_indication in dog_soup:\n",
    "#         return dog_dict\n",
    "#     else:\n",
    "#         info = page.select('.ActivityLevel p')\n",
    "#         for i in range(1,len(info)):\n",
    "#             item = info[i-1].text\n",
    "#             next_item = info[i].text\n",
    "#             if 'Height' in item:\n",
    "#                 if 'inches' in item:\n",
    "#                     if 'Female' in item:\n",
    "#                         male = item[:item.index('Female')]\n",
    "#                         female = item[item.index('Female'):]\n",
    "#                         dog_dict['male_h'] = [int(s) for s in male.split() if s.isdigit()]\n",
    "#                         dog_dict['female_h'] = [int(s) for s in female.split() if s.isdigit()]\n",
    "#                     else:\n",
    "#                         dog_dict['male_h'] = [int(s) for s in item.split() if s.isdigit()]\n",
    "#                         dog_dict['female_h'] = [int(s) for s in item.split() if s.isdigit()]\n",
    "#                 else:\n",
    "#                     if 'Female' in next_item:\n",
    "#                         male = next_item[:next_item.index('Female')]\n",
    "#                         female = next_item[next_item.index('Female'):]\n",
    "#                         dog_dict['male_h'] = [int(s) for s in male.split() if s.isdigit()]\n",
    "#                         dog_dict['female_h'] = [int(s) for s in female.split() if s.isdigit()]\n",
    "#                     else:\n",
    "#                         dog_dict['male_h'] = [int(s) for s in next_item.split() if s.isdigit()]\n",
    "#                         dog_dict['female_h'] = [int(s) for s in next_item.split() if s.isdigit()]\n",
    "#             if 'Weight' in item:\n",
    "#                 if 'pounds' in item:\n",
    "#                     if 'Female' in item:\n",
    "#                         male = item[:item.index('Female')]\n",
    "#                         female = item[item.index('Female'):]\n",
    "#                         dog_dict['male_w'] = [int(s) for s in male.split() if s.isdigit()]\n",
    "#                         dog_dict['female_w'] = [int(s) for s in female.split() if s.isdigit()]\n",
    "#                     else:\n",
    "#                         dog_dict['male_w'] = [int(s) for s in item.split() if s.isdigit()]\n",
    "#                         dog_dict['female_w'] = [int(s) for s in item.split() if s.isdigit()]\n",
    "#                 else:\n",
    "#                     if 'Female' in next_item:\n",
    "#                         male = next_item[:next_item.index('Female')]\n",
    "#                         female = next_item[next_item.index('Female'):]\n",
    "#                         dog_dict['male_w'] = [int(s) for s in male.split() if s.isdigit()]\n",
    "#                         dog_dict['female_w'] = [int(s) for s in female.split() if s.isdigit()]\n",
    "#                     else:\n",
    "#                         dog_dict['male_w'] = [int(s) for s in next_item.split() if s.isdigit()]\n",
    "#                         dog_dict['female_w'] = [int(s) for s in next_item.split() if s.isdigit()]\n",
    "#             if 'homes with kids?' in item:\n",
    "#                 dog_dict['w_kid'] = next_item\n",
    "#             if 'Better suited to an indoor or outdoor lifestyle?' in item:\n",
    "#                 dog_dict['in_out_door'] = next_item\n",
    "#         return dog_dict"
   ]
  },
  {
   "cell_type": "code",
   "execution_count": null,
   "id": "3b4726a7-1443-4b40-a7ae-305470e462ac",
   "metadata": {},
   "outputs": [],
   "source": []
  }
 ],
 "metadata": {
  "kernelspec": {
   "display_name": "Python 3 (ipykernel)",
   "language": "python",
   "name": "python3"
  },
  "language_info": {
   "codemirror_mode": {
    "name": "ipython",
    "version": 3
   },
   "file_extension": ".py",
   "mimetype": "text/x-python",
   "name": "python",
   "nbconvert_exporter": "python",
   "pygments_lexer": "ipython3",
   "version": "3.10.6"
  }
 },
 "nbformat": 4,
 "nbformat_minor": 5
}
